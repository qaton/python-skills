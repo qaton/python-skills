{
 "cells": [
  {
   "cell_type": "code",
   "execution_count": 7,
   "id": "7b3436c2-f0d1-4275-8441-65635a30fe57",
   "metadata": {},
   "outputs": [],
   "source": [
    "def format_data(account):\n",
    "    account_name = account[\"name\"]\n",
    "    account_descr = account[\"description\"]\n",
    "    account_country = account[\"country\"]\n",
    "    return f\"{account_name}, a {account_descr}, from {account_country}\""
   ]
  }
 ],
 "metadata": {
  "kernelspec": {
   "display_name": "Python 3 (ipykernel)",
   "language": "python",
   "name": "python3"
  },
  "language_info": {
   "codemirror_mode": {
    "name": "ipython",
    "version": 3
   },
   "file_extension": ".py",
   "mimetype": "text/x-python",
   "name": "python",
   "nbconvert_exporter": "python",
   "pygments_lexer": "ipython3",
   "version": "3.11.6"
  }
 },
 "nbformat": 4,
 "nbformat_minor": 5
}
